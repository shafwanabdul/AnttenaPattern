{
  "cells": [
    {
      "cell_type": "markdown",
      "metadata": {
        "id": "Hfb0zeHYnwtC"
      },
      "source": [
        "##### Copyright 2024 Google LLC."
      ]
    },
    {
      "cell_type": "code",
      "execution_count": 1,
      "metadata": {
        "id": "NeImViGqnv1b"
      },
      "outputs": [],
      "source": [
        "# @title Licensed under the Apache License, Version 2.0 (the \"License\");\n",
        "# you may not use this file except in compliance with the License.\n",
        "# You may obtain a copy of the License at\n",
        "#\n",
        "# https://www.apache.org/licenses/LICENSE-2.0\n",
        "#\n",
        "# Unless required by applicable law or agreed to in writing, software\n",
        "# distributed under the License is distributed on an \"AS IS\" BASIS,\n",
        "# WITHOUT WARRANTIES OR CONDITIONS OF ANY KIND, either express or implied.\n",
        "# See the License for the specific language governing permissions and\n",
        "# limitations under the License."
      ]
    },
    {
      "cell_type": "markdown",
      "metadata": {
        "id": "sP8PQnz1QrcF"
      },
      "source": [
        "# Gemini API: Zero-shot prompting"
      ]
    },
    {
      "cell_type": "markdown",
      "metadata": {
        "id": "bxGr_x3MRA0z"
      },
      "source": [
        "<table class=\"tfo-notebook-buttons\" align=\"left\">\n",
        "  <td>\n",
        "    <a target=\"_blank\" href=\"https://colab.research.google.com/github/google-gemini/cookbook/blob/main/examples/prompting/Zero_shot_prompting.ipynb\"><img src = \"../../images/colab_logo_32px.png\"/>Run in Google Colab</a>\n",
        "  </td>\n",
        "</table>"
      ]
    },
    {
      "cell_type": "markdown",
      "metadata": {
        "id": "ysy--KfNRrCq"
      },
      "source": [
        "You can use the Gemini models to answer many queries without any additional context. Zero-shot prompting is useful for situations when your queries are not complicated and do not require a specific schema."
      ]
    },
    {
      "cell_type": "code",
      "execution_count": 2,
      "metadata": {
        "id": "Ne-3gnXqR0hI"
      },
      "outputs": [],
      "source": [
        "!pip install -U -q \"google-generativeai>=0.7.2\""
      ]
    },
    {
      "cell_type": "code",
      "execution_count": 3,
      "metadata": {
        "id": "EconMHePQHGw"
      },
      "outputs": [],
      "source": [
        "import google.generativeai as genai\n",
        "\n",
        "from IPython.display import Markdown"
      ]
    },
    {
      "cell_type": "markdown",
      "metadata": {
        "id": "eomJzCa6lb90"
      },
      "source": [
        "## Configure your API key\n",
        "\n",
        "To run the following cell, your API key must be stored it in a Colab Secret named `GOOGLE_API_KEY`. If you don't already have an API key, or you're not sure how to create a Colab Secret, see [Authentication](https://github.com/google-gemini/cookbook/blob/main/quickstarts/Authentication.ipynb) for an example."
      ]
    },
    {
      "cell_type": "code",
      "execution_count": 4,
      "metadata": {
        "id": "v-JZzORUpVR2"
      },
      "outputs": [],
      "source": [
        "from google.colab import userdata\n",
        "GOOGLE_API_KEY=userdata.get('GOOGLE_API_KEY')\n",
        "\n",
        "genai.configure(api_key=GOOGLE_API_KEY)"
      ]
    },
    {
      "cell_type": "markdown",
      "metadata": {
        "id": "GLh4oXd1VXTw"
      },
      "source": [
        "## Examples\n",
        "\n",
        "Here are a few examples with zero-shot prompting. Note that in each of these examples, you can simply provide the task, with zero examples."
      ]
    },
    {
      "cell_type": "code",
      "execution_count": 5,
      "metadata": {
        "id": "Ym4w9z3iWHlT"
      },
      "outputs": [],
      "source": [
        "model = genai.GenerativeModel('gemini-1.5-flash-latest')"
      ]
    },
    {
      "cell_type": "code",
      "execution_count": 11,
      "metadata": {
        "id": "J580DkQPVYYp",
        "outputId": "6d3491ce-81f6-46c9-b519-f70b5c9e13fa",
        "colab": {
          "base_uri": "https://localhost:8080/",
          "height": 456
        }
      },
      "outputs": [
        {
          "output_type": "execute_result",
          "data": {
            "text/plain": [
              "<IPython.core.display.Markdown object>"
            ],
            "text/markdown": "Here's the list of animals sorted from biggest to smallest, with some estimations for size variation within species:\n\n1. **Dinosaur:**  (Extinct, but some species were incredibly large)\n2. **Elephant:**  (African bush elephants are the largest land animals)\n3. **Giraffe:** (The tallest land mammals)\n4. **Ape:** (Large primates like gorillas and orangutans)\n5. **Bear:** (Large carnivores with significant variation in size)\n6. **Deer:**  (A large range of sizes, but generally larger than dogs)\n7. **Monkey:** (A diverse group, some are larger than others)\n8. **Dog:** (Significant size variation among breeds)\n9. **Cat:** (Significant size variation among breeds, but generally smaller than dogs)\n10. **Squid:**  (Giant squid can be incredibly large, but many are smaller)\n11. **Eel:**  (Some eels can grow quite large, but many are smaller)\n12. **Lobster:** (Can grow quite large)\n13. **Snake:** (Great variation in size, some are massive, others are tiny)\n14. **Duck:** (Larger than many birds)\n15. **Bird:** (A very broad category, but most are smaller than mammals)\n16. **Crab:** (Can be large, but many are smaller)\n17. **Swallow:**  (A type of bird)\n18. **Snail:** (Often very small)\n19. **Cockroach:** (Many species are small)\n20. **Ant:** (Extremely small) \n\n**Note:** This list is based on general size, but it's impossible to be perfectly precise because there's a lot of variation within species. Also, \"dinosaur\" is a broad category, and many dinosaurs were quite small. \n"
          },
          "metadata": {},
          "execution_count": 11
        }
      ],
      "source": [
        "prompt = \"\"\"\n",
        "Sort following animals from biggest to smallest:\n",
        "giraffe, bird, cat, dog, monkey, cockroach, elephant, bear, ant, ape, dinosaur, deer, duck, crab, swallow, squid, eel, lobster, snail, snake\n",
        "\"\"\"\n",
        "Markdown(model.generate_content(prompt).text)"
      ]
    },
    {
      "cell_type": "code",
      "execution_count": 9,
      "metadata": {
        "id": "K1we-_q4VZ0M",
        "outputId": "992bec05-239c-4eef-e574-c3ea3cb497ee",
        "colab": {
          "base_uri": "https://localhost:8080/",
          "height": 46
        }
      },
      "outputs": [
        {
          "output_type": "execute_result",
          "data": {
            "text/plain": [
              "<IPython.core.display.Markdown object>"
            ],
            "text/markdown": "Negative \n"
          },
          "metadata": {},
          "execution_count": 9
        }
      ],
      "source": [
        "prompt = \"\"\"\n",
        "Classify sentiment of review as positive, negative or neutral:\n",
        "I go to this restaurant every week, I do not love at all.\n",
        "\"\"\"\n",
        "Markdown(model.generate_content(prompt).text)"
      ]
    },
    {
      "cell_type": "code",
      "execution_count": 10,
      "metadata": {
        "id": "4NF2OmfPVa4l",
        "outputId": "ebe8644a-434d-4b09-e755-87980d8d5c19",
        "colab": {
          "base_uri": "https://localhost:8080/",
          "height": 110
        }
      },
      "outputs": [
        {
          "output_type": "execute_result",
          "data": {
            "text/plain": [
              "<IPython.core.display.Markdown object>"
            ],
            "text/markdown": "The text mentions the following capital cities:\n\n* **Bern** (Switzerland) - Although the text mentions visiting Switzerland, it does not specify a city. Bern is the capital of Switzerland.\n* **Berlin** (Germany) - This is explicitly mentioned as the end point of the trip. \n\n**Cologne** is a city in Germany, not France. \n"
          },
          "metadata": {},
          "execution_count": 10
        }
      ],
      "source": [
        "prompt = \"\"\"\n",
        "extract capital cities from the text:\n",
        "During the summer I visited many countries in Europe. First I visited Switzerland. Then I visited Cologne in France and the trip ended in Berlin.\n",
        "\"\"\"\n",
        "Markdown(model.generate_content(prompt).text)"
      ]
    },
    {
      "cell_type": "markdown",
      "metadata": {
        "id": "_TghYaiGobM5"
      },
      "source": [
        "## Next steps\n",
        "\n",
        "Be sure to explore other examples of prompting in the repository. Try writing prompts about classifying your own data, or try some of the other prompting techniques such as [few-shot prompting](https://github.com/google-gemini/cookbook/blob/main/examples/prompting/Few_shot_prompting.ipynb)."
      ]
    }
  ],
  "metadata": {
    "colab": {
      "name": "Zero_shot_prompting.ipynb",
      "provenance": []
    },
    "kernelspec": {
      "display_name": "Python 3",
      "name": "python3"
    }
  },
  "nbformat": 4,
  "nbformat_minor": 0
}